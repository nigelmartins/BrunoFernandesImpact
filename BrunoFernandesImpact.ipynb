{
 "cells": [
  {
   "cell_type": "code",
   "execution_count": 1,
   "metadata": {},
   "outputs": [
    {
     "data": {
      "text/html": [
       "        <script type=\"text/javascript\">\n",
       "        window.PlotlyConfig = {MathJaxConfig: 'local'};\n",
       "        if (window.MathJax) {MathJax.Hub.Config({SVG: {font: \"STIX-Web\"}});}\n",
       "        if (typeof require !== 'undefined') {\n",
       "        require.undef(\"plotly\");\n",
       "        requirejs.config({\n",
       "            paths: {\n",
       "                'plotly': ['https://cdn.plot.ly/plotly-latest.min']\n",
       "            }\n",
       "        });\n",
       "        require(['plotly'], function(Plotly) {\n",
       "            window._Plotly = Plotly;\n",
       "        });\n",
       "        }\n",
       "        </script>\n",
       "        "
      ]
     },
     "metadata": {},
     "output_type": "display_data"
    },
    {
     "data": {
      "text/html": [
       "        <script type=\"text/javascript\">\n",
       "        window.PlotlyConfig = {MathJaxConfig: 'local'};\n",
       "        if (window.MathJax) {MathJax.Hub.Config({SVG: {font: \"STIX-Web\"}});}\n",
       "        if (typeof require !== 'undefined') {\n",
       "        require.undef(\"plotly\");\n",
       "        requirejs.config({\n",
       "            paths: {\n",
       "                'plotly': ['https://cdn.plot.ly/plotly-latest.min']\n",
       "            }\n",
       "        });\n",
       "        require(['plotly'], function(Plotly) {\n",
       "            window._Plotly = Plotly;\n",
       "        });\n",
       "        }\n",
       "        </script>\n",
       "        "
      ]
     },
     "metadata": {},
     "output_type": "display_data"
    }
   ],
   "source": [
    "#importing pandas, numpy and some visualisation libraries.\n",
    "\n",
    "import pandas as pd\n",
    "import numpy as np\n",
    "import seaborn as sns\n",
    "import matplotlib.pyplot as plt\n",
    "\n",
    "import cufflinks as cf\n",
    "\n",
    "import plotly.graph_objects as go\n",
    "from plotly.subplots import make_subplots\n",
    "\n",
    "from plotly.offline import init_notebook_mode, download_plotlyjs,plot,iplot\n",
    "import plotly.express as px\n",
    "\n",
    "%matplotlib inline\n",
    "cf.go_offline()\n",
    "\n",
    "init_notebook_mode(connected=True)"
   ]
  },
  {
   "cell_type": "code",
   "execution_count": 2,
   "metadata": {},
   "outputs": [],
   "source": [
    "#Reading the csv files for each season of the Premier League (2015/16 to 2019/20)\n",
    "\n",
    "pl2016 = pd.read_csv('pl_15-16.csv')\n",
    "pl2017 = pd.read_csv('pl_16-17.csv')\n",
    "pl2018 = pd.read_csv('pl_17-18.csv')\n",
    "pl2019 = pd.read_csv('pl_18-19.csv')\n",
    "pl2020 = pd.read_csv('pl_19-20.csv')\n",
    "\n",
    "pl2016['Year']='2015/16'\n",
    "pl2017['Year']='2016/17'\n",
    "pl2018['Year']='2017/18'\n",
    "pl2019['Year']='2018/19'\n",
    "pl2020['Year']='2019/20'"
   ]
  },
  {
   "cell_type": "code",
   "execution_count": 3,
   "metadata": {},
   "outputs": [],
   "source": [
    "#Before Bruno Fernandes\n",
    "rashford19 = pl2019[pl2019['Name']=='Marcus Rashford ']\n",
    "lukaku19 = pl2019[pl2019['Name']=='Romelu Lukaku ']\n",
    "martial19 = pl2019[pl2019['Name']=='Anthony Martial ']\n",
    "\n",
    "manutd_trio19 = pd.concat([rashford19, lukaku19, martial19])\n",
    "\n",
    "#After Bruno Fernandes\n",
    "rashford20 = pl2020[pl2020['Name']=='Marcus Rashford ']\n",
    "greenwood20 = pl2020[pl2020['Name']=='Mason Greenwood ']\n",
    "martial20 = pl2020[pl2020['Name']=='Anthony Martial ']\n",
    "bruno20 = pl2020[pl2020['Name']=='Bruno Fernandes ']\n",
    "\n",
    "manutd_trio20 = pd.concat([rashford20, greenwood20, martial20])"
   ]
  },
  {
   "cell_type": "code",
   "execution_count": 4,
   "metadata": {},
   "outputs": [
    {
     "name": "stdout",
     "output_type": "stream",
     "text": [
      "\n",
      "\t\t2019\n",
      "\n",
      "                 Name  Goals\n",
      "677  Marcus Rashford      10\n",
      "493    Romelu Lukaku      12\n",
      "520  Anthony Martial      10\n",
      "\n",
      "\t\t  Total = 32\n",
      "**********************************\n",
      "\n",
      "\t\t2020\n",
      "\n",
      "                 Name  Goals\n",
      "743  Marcus Rashford      17\n",
      "345  Mason Greenwood      10\n",
      "571  Anthony Martial      17\n",
      "\n",
      "\t\t  Total = 44\n",
      "**********************************\n",
      "<seaborn.axisgrid.FacetGrid object at 0x00000250C5651D30>\n"
     ]
    },
    {
     "data": {
      "image/png": "[encoded data removed]",
      "text/plain": [
       "<Figure size 491.375x360 with 1 Axes>"
      ]
     },
     "metadata": {
      "needs_background": "light"
     },
     "output_type": "display_data"
    }
   ],
   "source": [
    "manutd_trio = pd.concat([manutd_trio19, manutd_trio20])\n",
    "\n",
    "n = sns.catplot(x = 'Year', y = 'Goals', hue='Name', \n",
    "                kind='bar', data=manutd_trio) \n",
    "\n",
    "i=2019\n",
    "for dfs in [manutd_trio19, manutd_trio20]:\n",
    "    print(\"\\n\\t\\t{}\\n\\n{}\\n\\n\\t\\t  Total = {}\".format(i,dfs[['Name', 'Goals']], dfs['Goals'].sum()))\n",
    "    print(\"**********************************\")\n",
    "    i+=1\n",
    "    \n",
    "print(n)"
   ]
  },
  {
   "cell_type": "code",
   "execution_count": null,
   "metadata": {},
   "outputs": [],
   "source": []
  }
 ],
 "metadata": {
  "kernelspec": {
   "display_name": "Python 3",
   "language": "python",
   "name": "python3"
  },
  "language_info": {
   "codemirror_mode": {
    "name": "ipython",
    "version": 3
   },
   "file_extension": ".py",
   "mimetype": "text/x-python",
   "name": "python",
   "nbconvert_exporter": "python",
   "pygments_lexer": "ipython3",
   "version": "3.8.5"
  }
 },
 "nbformat": 4,
 "nbformat_minor": 4
}
